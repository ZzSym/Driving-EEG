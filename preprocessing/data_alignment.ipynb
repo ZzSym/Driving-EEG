{
 "cells": [
  {
   "cell_type": "code",
   "execution_count": 1,
   "metadata": {},
   "outputs": [],
   "source": [
    "import os\n",
    "import mne\n",
    "import numpy as np\n",
    "\n",
    "from omegaconf import OmegaConf\n",
    "from utils import (\n",
    "    get_ch_names,\n",
    "    load_npz_files,\n",
    "    load_log_file, \n",
    "    align_data,\n",
    ")"
   ]
  },
  {
   "cell_type": "code",
   "execution_count": 2,
   "metadata": {},
   "outputs": [
    {
     "name": "stdout",
     "output_type": "stream",
     "text": [
      "Opening raw data file ../data/Preprocessed_Jmd_data/Preprocessed_session1.fif...\n",
      "    Range : 67275 ... 224553 =     67.275 ...   224.553 secs\n",
      "Ready.\n"
     ]
    },
    {
     "name": "stderr",
     "output_type": "stream",
     "text": [
      "/tmp/ipykernel_231744/1042052589.py:9: RuntimeWarning: This filename (../data/Preprocessed_Jmd_data/Preprocessed_session1.fif) does not conform to MNE naming conventions. All raw files should end with raw.fif, raw_sss.fif, raw_tsss.fif, _meg.fif, _eeg.fif, _ieeg.fif, raw.fif.gz, raw_sss.fif.gz, raw_tsss.fif.gz, _meg.fif.gz, _eeg.fif.gz or _ieeg.fif.gz\n",
      "  raw = mne.io.read_raw_fif(fif_file_path, preload=True)\n"
     ]
    },
    {
     "name": "stdout",
     "output_type": "stream",
     "text": [
      "Reading 0 ... 157278  =      0.000 ...   157.278 secs...\n",
      "Opening raw data file ../data/Preprocessed_Jmd_data/Preprocessed_session2.fif...\n",
      "    Range : 260349 ... 418708 =    260.349 ...   418.708 secs\n",
      "Ready.\n",
      "Reading 0 ... 158359  =      0.000 ...   158.359 secs...\n",
      "Opening raw data file ../data/Preprocessed_Jmd_data/Preprocessed_session3.fif...\n",
      "    Range : 610291 ... 769994 =    610.291 ...   769.994 secs\n",
      "Ready.\n",
      "Reading 0 ... 159703  =      0.000 ...   159.703 secs...\n"
     ]
    },
    {
     "name": "stderr",
     "output_type": "stream",
     "text": [
      "/tmp/ipykernel_231744/1042052589.py:9: RuntimeWarning: This filename (../data/Preprocessed_Jmd_data/Preprocessed_session2.fif) does not conform to MNE naming conventions. All raw files should end with raw.fif, raw_sss.fif, raw_tsss.fif, _meg.fif, _eeg.fif, _ieeg.fif, raw.fif.gz, raw_sss.fif.gz, raw_tsss.fif.gz, _meg.fif.gz, _eeg.fif.gz or _ieeg.fif.gz\n",
      "  raw = mne.io.read_raw_fif(fif_file_path, preload=True)\n",
      "/tmp/ipykernel_231744/1042052589.py:9: RuntimeWarning: This filename (../data/Preprocessed_Jmd_data/Preprocessed_session3.fif) does not conform to MNE naming conventions. All raw files should end with raw.fif, raw_sss.fif, raw_tsss.fif, _meg.fif, _eeg.fif, _ieeg.fif, raw.fif.gz, raw_sss.fif.gz, raw_tsss.fif.gz, _meg.fif.gz, _eeg.fif.gz or _ieeg.fif.gz\n",
      "  raw = mne.io.read_raw_fif(fif_file_path, preload=True)\n"
     ]
    },
    {
     "name": "stdout",
     "output_type": "stream",
     "text": [
      "Opening raw data file ../data/Preprocessed_Jmd_data/Preprocessed_session4.fif...\n",
      "    Range : 933203 ... 1095013 =    933.203 ...  1095.013 secs\n",
      "Ready.\n",
      "Reading 0 ... 161810  =      0.000 ...   161.810 secs...\n",
      "Opening raw data file ../data/Preprocessed_Jmd_data/Preprocessed_session5.fif...\n",
      "    Range : 2547821 ... 2707656 =   2547.821 ...  2707.656 secs\n",
      "Ready.\n",
      "Reading 0 ... 159835  =      0.000 ...   159.835 secs...\n"
     ]
    },
    {
     "name": "stderr",
     "output_type": "stream",
     "text": [
      "/tmp/ipykernel_231744/1042052589.py:9: RuntimeWarning: This filename (../data/Preprocessed_Jmd_data/Preprocessed_session4.fif) does not conform to MNE naming conventions. All raw files should end with raw.fif, raw_sss.fif, raw_tsss.fif, _meg.fif, _eeg.fif, _ieeg.fif, raw.fif.gz, raw_sss.fif.gz, raw_tsss.fif.gz, _meg.fif.gz, _eeg.fif.gz or _ieeg.fif.gz\n",
      "  raw = mne.io.read_raw_fif(fif_file_path, preload=True)\n",
      "/tmp/ipykernel_231744/1042052589.py:9: RuntimeWarning: This filename (../data/Preprocessed_Jmd_data/Preprocessed_session5.fif) does not conform to MNE naming conventions. All raw files should end with raw.fif, raw_sss.fif, raw_tsss.fif, _meg.fif, _eeg.fif, _ieeg.fif, raw.fif.gz, raw_sss.fif.gz, raw_tsss.fif.gz, _meg.fif.gz, _eeg.fif.gz or _ieeg.fif.gz\n",
      "  raw = mne.io.read_raw_fif(fif_file_path, preload=True)\n"
     ]
    },
    {
     "name": "stdout",
     "output_type": "stream",
     "text": [
      "Opening raw data file ../data/Preprocessed_Jmd_data/Preprocessed_session6.fif...\n",
      "    Range : 2731037 ... 2893481 =   2731.037 ...  2893.481 secs\n",
      "Ready.\n",
      "Reading 0 ... 162444  =      0.000 ...   162.444 secs...\n",
      "Opening raw data file ../data/Preprocessed_Jmd_data/Preprocessed_session7.fif...\n",
      "    Range : 3058387 ... 3218612 =   3058.387 ...  3218.612 secs\n",
      "Ready.\n",
      "Reading 0 ... 160225  =      0.000 ...   160.225 secs...\n"
     ]
    },
    {
     "name": "stderr",
     "output_type": "stream",
     "text": [
      "/tmp/ipykernel_231744/1042052589.py:9: RuntimeWarning: This filename (../data/Preprocessed_Jmd_data/Preprocessed_session6.fif) does not conform to MNE naming conventions. All raw files should end with raw.fif, raw_sss.fif, raw_tsss.fif, _meg.fif, _eeg.fif, _ieeg.fif, raw.fif.gz, raw_sss.fif.gz, raw_tsss.fif.gz, _meg.fif.gz, _eeg.fif.gz or _ieeg.fif.gz\n",
      "  raw = mne.io.read_raw_fif(fif_file_path, preload=True)\n",
      "/tmp/ipykernel_231744/1042052589.py:9: RuntimeWarning: This filename (../data/Preprocessed_Jmd_data/Preprocessed_session7.fif) does not conform to MNE naming conventions. All raw files should end with raw.fif, raw_sss.fif, raw_tsss.fif, _meg.fif, _eeg.fif, _ieeg.fif, raw.fif.gz, raw_sss.fif.gz, raw_tsss.fif.gz, _meg.fif.gz, _eeg.fif.gz or _ieeg.fif.gz\n",
      "  raw = mne.io.read_raw_fif(fif_file_path, preload=True)\n"
     ]
    },
    {
     "name": "stdout",
     "output_type": "stream",
     "text": [
      "Opening raw data file ../data/Preprocessed_Jmd_data/Preprocessed_session8.fif...\n",
      "    Range : 3266023 ... 3429652 =   3266.023 ...  3429.652 secs\n",
      "Ready.\n",
      "Reading 0 ... 163629  =      0.000 ...   163.629 secs...\n",
      "Opening raw data file ../data/Preprocessed_Jmd_data/Preprocessed_session8.fif...\n",
      "    Range : 3266023 ... 3429652 =   3266.023 ...  3429.652 secs\n",
      "Ready.\n",
      "Reading 0 ... 163629  =      0.000 ...   163.629 secs...\n"
     ]
    },
    {
     "name": "stderr",
     "output_type": "stream",
     "text": [
      "/tmp/ipykernel_231744/1042052589.py:9: RuntimeWarning: This filename (../data/Preprocessed_Jmd_data/Preprocessed_session8.fif) does not conform to MNE naming conventions. All raw files should end with raw.fif, raw_sss.fif, raw_tsss.fif, _meg.fif, _eeg.fif, _ieeg.fif, raw.fif.gz, raw_sss.fif.gz, raw_tsss.fif.gz, _meg.fif.gz, _eeg.fif.gz or _ieeg.fif.gz\n",
      "  raw = mne.io.read_raw_fif(fif_file_path, preload=True)\n",
      "/nishome/zzx/Driving-EEG/preprocessing/utils.py:96: RuntimeWarning: This filename (../data/Preprocessed_Jmd_data/Preprocessed_session8.fif) does not conform to MNE naming conventions. All raw files should end with raw.fif, raw_sss.fif, raw_tsss.fif, _meg.fif, _eeg.fif, _ieeg.fif, raw.fif.gz, raw_sss.fif.gz, raw_tsss.fif.gz, _meg.fif.gz, _eeg.fif.gz or _ieeg.fif.gz\n",
      "  raw = mne.io.read_raw_fif(file_path, preload=True)\n"
     ]
    }
   ],
   "source": [
    "# Make npz files\n",
    "npz_dir = '../data/Preprocessed_Jmd_data_npz/'\n",
    "os.makedirs(npz_dir, exist_ok=True)\n",
    "\n",
    "for i in range(8):\n",
    "    fif_file_path = '../data/Preprocessed_Jmd_data/Preprocessed_session' + str(i+1) + '.fif'\n",
    "\n",
    "    # Read the .fif file using MNE\n",
    "    raw = mne.io.read_raw_fif(fif_file_path, preload=True)\n",
    "\n",
    "    # Get the data and the sampling frequency\n",
    "    data, times = raw[:]\n",
    "    sfreq = raw.info['sfreq']\n",
    "\n",
    "    # np.savez(os.path.join(npz_dir, 'Preprocessed_session' + str(i+1) + '.npz'), data=data, times=times, sfreq=sfreq)\n",
    "\n",
    "# Get the channel names\n",
    "ch_names = get_ch_names(fif_file_path)"
   ]
  },
  {
   "cell_type": "code",
   "execution_count": 3,
   "metadata": {},
   "outputs": [],
   "source": [
    "# Load EEG data\n",
    "npz_dir = '../data/Preprocessed_Jmd_data_npz/'\n",
    "data_list, times_list, sfreq_list = load_npz_files(npz_dir)"
   ]
  },
  {
   "cell_type": "code",
   "execution_count": 4,
   "metadata": {},
   "outputs": [],
   "source": [
    "# Load log data\n",
    "log_dir = '../data/output/20240819143707_jmd_jmd_1_FPV/vehicle_log.csv'\n",
    "log_dict = load_log_file(log_dir)"
   ]
  },
  {
   "cell_type": "code",
   "execution_count": 5,
   "metadata": {},
   "outputs": [],
   "source": [
    "# # Split one session into two round sessions\n",
    "# time_step = [log_dict[\"timepoint\"][i] - log_dict[\"timepoint\"][i - 1] for i in range(1, len(log_dict[\"timepoint\"]))]\n",
    "# slice_index = np.argmax(time_step) + 1 # Find the index where the time step is the largest\n",
    "# log_dict_1 = {key: value[:slice_index] for key, value in log_dict.items()} # before the largest time step \n",
    "# log_dict_2 = {key: value[slice_index:] for key, value in log_dict.items()} # after the largest time step \n",
    "# log_dict_2[\"timepoint\"] = [value - log_dict[\"timepoint\"][slice_index] for value in log_dict_2[\"timepoint\"]]\n",
    "\n",
    "# np.savez(\"../data/aligned_data/log_dict/20240819152551_jmd_jmd_4_FPV_log_dict_1.npz\", **log_dict_1)\n",
    "# np.savez(\"../data/aligned_data/log_dict/20240819152551_jmd_jmd_4_FPV_log_dict_2.npz\", **log_dict_2)"
   ]
  },
  {
   "cell_type": "code",
   "execution_count": 6,
   "metadata": {},
   "outputs": [],
   "source": [
    "cfg = OmegaConf.create()\n",
    "cfg.data_align = {}\n",
    "cfg.data_align.time_window = 1000\n",
    "cfg.data_align.padding_before = 1000\n",
    "cfg.data_align.padding_after = 1000\n",
    "cfg.data_align.decimate_rate = 10\n",
    "cfg.data_align.time_bias = 1000\n",
    "cfg.data_align.filter_type = \"fir\""
   ]
  },
  {
   "cell_type": "code",
   "execution_count": 7,
   "metadata": {},
   "outputs": [],
   "source": [
    "# for i in range(4):\n",
    "#     for j in range(2):\n",
    "#         log_dict = np.load(f\"../data/aligned_data/log_dict/Jmd_20240819jmd_{i+1}_FPV_log_dict_{j+1}.npz\", allow_pickle=True)\n",
    "#         globals()[f\"log_dict_{i}_{j}\"] = log_dict"
   ]
  },
  {
   "cell_type": "code",
   "execution_count": null,
   "metadata": {},
   "outputs": [],
   "source": [
    "log_dict_1 = np.load(\"../data/aligned_data/log_dict/20240819143707_jmd_jmd_1_FPV_log_dict_1.npz\", allow_pickle=True)\n",
    "log_dict_2 = np.load(\"../data/aligned_data/log_dict/20240819143707_jmd_jmd_1_FPV_log_dict_2.npz\", allow_pickle=True)\n",
    "log_dict_3 = np.load(\"../data/aligned_data/log_dict/20240819144522_jmd_jmd_2_FPV_log_dict_1.npz\", allow_pickle=True)\n",
    "log_dict_4 = np.load(\"../data/aligned_data/log_dict/20240819144522_jmd_jmd_2_FPV_log_dict_2.npz\", allow_pickle=True)\n",
    "log_dict_5 = np.load(\"../data/aligned_data/log_dict/20240819145709_jmd_jmd_3_FPV_log_dict_1.npz\", allow_pickle=True)\n",
    "log_dict_6 = np.load(\"../data/aligned_data/log_dict/20240819145709_jmd_jmd_3_FPV_log_dict_2.npz\", allow_pickle=True)\n",
    "log_dict_7 = np.load(\"../data/aligned_data/log_dict/20240819152551_jmd_jmd_4_FPV_log_dict_1.npz\", allow_pickle=True)\n",
    "log_dict_8 = np.load(\"../data/aligned_data/log_dict/20240819152551_jmd_jmd_4_FPV_log_dict_2.npz\", allow_pickle=True)\n",
    "\n",
    "for i in range(8):\n",
    "    temp_data_file = np.load(\"../data/Preprocessed_Jmd_data_npz/Preprocessed_session\" + str(i+1) + \".npz\", allow_pickle=True)\n",
    "    globals()[f\"data_{i+1}\"] = temp_data_file"
   ]
  },
  {
   "cell_type": "code",
   "execution_count": 21,
   "metadata": {},
   "outputs": [
    {
     "name": "stderr",
     "output_type": "stream",
     "text": [
      "100%|██████████| 4705/4705 [00:36<00:00, 127.22it/s]\n",
      "100%|██████████| 4738/4738 [00:37<00:00, 127.14it/s]\n",
      "100%|██████████| 4779/4779 [00:38<00:00, 125.55it/s]\n",
      "100%|██████████| 4843/4843 [00:38<00:00, 125.25it/s]\n",
      "100%|██████████| 4783/4783 [00:38<00:00, 125.32it/s]\n",
      "100%|██████████| 4862/4862 [00:38<00:00, 124.94it/s]\n",
      "100%|██████████| 4795/4795 [00:38<00:00, 124.89it/s]\n",
      "100%|██████████| 4888/4888 [00:39<00:00, 124.31it/s]\n"
     ]
    }
   ],
   "source": [
    "# Align the data\n",
    "for i in range(8):\n",
    "    temp_log_dict = globals()[f\"log_dict_{i+1}\"]\n",
    "    temp_data = globals()[f\"data_{i+1}\"]\n",
    "    temp_aligned_data = align_data(temp_log_dict, temp_data[\"data\"], cfg.data_align)\n",
    "    globals()[f\"aligned_data_{i+1}\"] = temp_aligned_data"
   ]
  },
  {
   "cell_type": "code",
   "execution_count": null,
   "metadata": {},
   "outputs": [],
   "source": [
    "save_dir = \"../data/aligned_data/aligned_data_20250224\"\n",
    "os.mkdir(save_dir)\n",
    "for i in range(8):\n",
    "    np.savez(save_dir + f\"/20240819_jmd_aligned_{i+1}.npz\", **globals()[f\"aligned_data_{i+1}\"])\n",
    "OmegaConf.save(cfg.data_align, save_dir + \"/data_align.yaml\")"
   ]
  }
 ],
 "metadata": {
  "kernelspec": {
   "display_name": "py310",
   "language": "python",
   "name": "python3"
  },
  "language_info": {
   "codemirror_mode": {
    "name": "ipython",
    "version": 3
   },
   "file_extension": ".py",
   "mimetype": "text/x-python",
   "name": "python",
   "nbconvert_exporter": "python",
   "pygments_lexer": "ipython3",
   "version": "3.10.16"
  }
 },
 "nbformat": 4,
 "nbformat_minor": 2
}
