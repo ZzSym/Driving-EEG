{
 "cells": [
  {
   "cell_type": "markdown",
   "metadata": {},
   "source": [
    "# **Support Vector Machine (SVM)**\n",
    "\n",
    "---\n",
    "\n",
    "## **Introduction**\n",
    "Support Vector Machine (SVM) is a supervised learning algorithm used for **classification and regression** tasks. It is particularly effective in high-dimensional spaces and works well when the number of dimensions exceeds the number of samples.\n",
    "\n",
    "SVM aims to find the optimal **decision boundary** that maximizes the margin between different classes.\n",
    "\n",
    "---\n",
    "\n",
    "## **Methodology**\n",
    "\n",
    "### **1. Problem Definition**\n",
    "Given a dataset of $N$ samples where each sample $\\mathbf{x}_j$ is a $d$-dimensional vector:\n",
    "\n",
    "$$\n",
    "\\mathbf{x}_j = (x_{j1}, x_{j2}, \\dots, x_{jd})\n",
    "$$\n",
    "\n",
    "Each sample belongs to one of two classes $y_j \\in \\{-1,1\\}$. The goal of SVM is to find a hyperplane that best separates the two classes.\n",
    "\n",
    "A **linear decision boundary** is given by:\n",
    "\n",
    "$$\n",
    "f(\\mathbf{x}) = \\mathbf{w}^T\\mathbf{x} + b = 0\n",
    "$$\n",
    "\n",
    "where:\n",
    "- $\\mathbf{w}$ is the weight vector.\n",
    "- $b$ is the bias term.\n",
    "\n",
    "### **2. Maximum Margin Principle**\n",
    "SVM finds the hyperplane that maximizes the **margin**, defined as the distance between the hyperplane and the closest data points (support vectors).\n",
    "\n",
    "For correctly classified points:\n",
    "\n",
    "$$\n",
    "y_j (\\mathbf{w}^T\\mathbf{x}_j + b) \\geq 1, \\quad \\forall j\n",
    "$$\n",
    "\n",
    "The margin is:\n",
    "\n",
    "$$\n",
    "\\frac{2}{\\|\\mathbf{w}\\|}\n",
    "$$\n",
    "\n",
    "To maximize the margin, we solve the following optimization problem:\n",
    "\n",
    "$$\n",
    "\\min_{\\mathbf{w}, b} \\frac{1}{2} \\|\\mathbf{w}\\|^2\n",
    "$$\n",
    "\n",
    "subject to:\n",
    "\n",
    "$$\n",
    "y_j (\\mathbf{w}^T\\mathbf{x}_j + b) \\geq 1, \\quad \\forall j\n",
    "$$\n",
    "\n",
    "This is a **convex quadratic optimization** problem.\n",
    "\n",
    "### **3. Soft-Margin SVM**\n",
    "If data is not linearly separable, we introduce **slack variables** $\\xi_j$ to allow misclassification:\n",
    "\n",
    "$$\n",
    "y_j (\\mathbf{w}^T\\mathbf{x}_j + b) \\geq 1 - \\xi_j, \\quad \\xi_j \\geq 0\n",
    "$$\n",
    "\n",
    "The new objective function becomes:\n",
    "\n",
    "$$\n",
    "\\min_{\\mathbf{w}, b} \\frac{1}{2} \\|\\mathbf{w}\\|^2 + C \\sum_{j=1}^{N} \\xi_j\n",
    "$$\n",
    "\n",
    "where $C$ is a hyperparameter controlling the trade-off between maximizing the margin and minimizing classification errors.\n",
    "\n",
    "### **4. Kernel Trick for Nonlinear SVM**\n",
    "For nonlinear classification, we map data to a higher-dimensional space using a kernel function $K(\\mathbf{x}_i, \\mathbf{x}_j)$, such as:\n",
    "\n",
    "- **Linear Kernel:**  \n",
    "  $$\n",
    "  K(\\mathbf{x}_i, \\mathbf{x}_j) = \\mathbf{x}_i^T \\mathbf{x}_j\n",
    "  $$\n",
    "- **Polynomial Kernel:**  \n",
    "  $$\n",
    "  K(\\mathbf{x}_i, \\mathbf{x}_j) = (\\mathbf{x}_i^T \\mathbf{x}_j + 1)^p\n",
    "  $$\n",
    "- **Radial Basis Function (RBF) Kernel:**  \n",
    "\n",
    "  $$\n",
    "  K(\\mathbf{x}_i, \\mathbf{x}_j) = \\exp\\left(-\\gamma \\|\\mathbf{x}_i - \\mathbf{x}_j\\|^2\\right)\n",
    "  $$\n",
    "\n",
    "where $\\gamma$ controls the influence of each training sample.\n",
    "\n",
    "### **5. Decision Rule**\n",
    "Once trained, predictions are made using:\n",
    "\n",
    "$$\n",
    "\\hat{y} = \\text{sign}(\\mathbf{w}^T \\mathbf{x} + b)\n",
    "$$\n",
    "\n",
    "For nonlinear SVMs using kernels:\n",
    "\n",
    "$$\n",
    "\\hat{y} = \\text{sign}\\left( \\sum_{j=1}^{N} \\alpha_j y_j K(\\mathbf{x}_j, \\mathbf{x}) + b \\right)\n",
    "$$\n",
    "\n",
    "where $\\alpha_j$ are the Lagrange multipliers obtained during training.\n",
    "\n",
    "---\n",
    "\n",
    "## **Prerequisites**\n",
    "- `numpy`\n",
    "- `scikit-learn`\n",
    "- `matplotlib`\n",
    "\n",
    "---\n",
    "\n",
    "The following is an example of using SVM to analyze EEG data recorded in a driving simulation experiment. The goal is to classify **steering angles** based on EEG signals.\n",
    "\n",
    "You can try applying SVM to other BCI datasets."
   ]
  },
  {
   "cell_type": "markdown",
   "metadata": {},
   "source": [
    "## **main experiment**\n",
    "- make binary/multiple label\n",
    "- PCA reduction & explained varience ratio\n",
    "- SVM classification"
   ]
  },
  {
   "cell_type": "code",
   "execution_count": 1,
   "metadata": {},
   "outputs": [],
   "source": [
    "import os\n",
    "import numpy as np\n",
    "import matplotlib.pyplot as plt\n",
    "\n",
    "from utils import (\n",
    "    make_binary_label,\n",
    "    make_multi_label,\n",
    "    load_data_model,\n",
    ")\n",
    "\n",
    "from sklearn.svm import SVC\n",
    "from sklearn.decomposition import PCA\n",
    "from sklearn.model_selection import GridSearchCV\n",
    "from sklearn.preprocessing import StandardScaler\n",
    "from sklearn.metrics import accuracy_score"
   ]
  },
  {
   "cell_type": "code",
   "execution_count": 2,
   "metadata": {},
   "outputs": [],
   "source": [
    "# load train and test data\n",
    "data_dir = \"../data/data_model/sub-jimingda/forward1.npz\"\n",
    "data_list = load_data_model(data_dir)\n",
    "train_data, train_label, test_data, test_label = data_list[\"feature_train\"], data_list[\"steering_train\"], data_list[\"feature_test\"], data_list[\"steering_test\"]\n",
    "\n",
    "# simply flatten the data from (sample, channel, timepoint) to (sample, channel*timepoint)\n",
    "train_data = np.reshape(train_data, (train_data.shape[0], -1))\n",
    "test_data = np.reshape(test_data, (test_data.shape[0], -1))\n",
    "\n",
    "# make binary labels\n",
    "train_label_2 = make_binary_label(train_label)\n",
    "test_label_2 = make_binary_label(test_label)\n",
    "\n",
    "# make multi labels\n",
    "split_list = [-1, -0.05, 0.05, 1]\n",
    "train_label_3 = make_multi_label(train_label, split_list)\n",
    "test_label_3 = make_multi_label(test_label, split_list)\n",
    "\n",
    "# nomalization\n",
    "scaler = StandardScaler()\n",
    "train_data_scaled = scaler.fit_transform(train_data)\n",
    "test_data_scaled = scaler.transform(test_data)"
   ]
  },
  {
   "cell_type": "code",
   "execution_count": 3,
   "metadata": {},
   "outputs": [],
   "source": [
    "# Need minutes to run\n",
    "# Observe the change in cumulative variance of data.\n",
    "cumulative_variance_ratio = []\n",
    "for i in range(21):\n",
    "    n_components = 1 + i * 100\n",
    "    pca = PCA(n_components=n_components)\n",
    "    pca.fit(train_data_scaled)\n",
    "    cumulative_variance_ratio.append(np.sum(pca.explained_variance_ratio_))"
   ]
  },
  {
   "cell_type": "code",
   "execution_count": 4,
   "metadata": {},
   "outputs": [
    {
     "data": {
      "image/png": "[encoded data removed]",
      "text/plain": [
       "<Figure size 600x300 with 1 Axes>"
      ]
     },
     "metadata": {},
     "output_type": "display_data"
    }
   ],
   "source": [
    "plt.figure(figsize=(6, 3))\n",
    "x_label = [1 + i*100 for i in range(21)]\n",
    "plt.plot(x_label, cumulative_variance_ratio, marker='o')\n",
    "plt.xlabel('Number of Components')\n",
    "plt.ylabel('Cumulative Explained Variance Ratio')\n",
    "plt.title('Cumulative Explained Variance Ratio vs Number of Components')\n",
    "plt.grid(True)\n",
    "plt.show()"
   ]
  },
  {
   "cell_type": "code",
   "execution_count": 10,
   "metadata": {},
   "outputs": [
    {
     "name": "stdout",
     "output_type": "stream",
     "text": [
      "主成分的方差解释比例: 0.85792829839458\n"
     ]
    }
   ],
   "source": [
    "n_components = 2000\n",
    "pca = PCA(n_components=n_components)\n",
    "train_data_pca = pca.fit(train_data_scaled)\n",
    "print(\"主成分的方差解释比例:\", np.sum(pca.explained_variance_ratio_))"
   ]
  },
  {
   "cell_type": "markdown",
   "metadata": {},
   "source": [
    "Result shows that 2000 components can expland 85% variance of data, but this dimension is still too high for classical SVM\n",
    "\n",
    "To show the use of SVM, we forcibly reduce the dimension of the data, but this will lose most of the EEG information."
   ]
  },
  {
   "cell_type": "code",
   "execution_count": null,
   "metadata": {},
   "outputs": [],
   "source": [
    "train_data, train_label, test_data, test_label = data_list[\"feature_train\"], data_list[\"steering_train\"], data_list[\"feature_test\"], data_list[\"steering_test\"]\n",
    "\n",
    "train_data_reduced = train_data[:, :, 100]\n",
    "test_data_reduced = test_data[:, :, 100]\n",
    "\n",
    "scaler = StandardScaler()\n",
    "train_data_reduced = scaler.fit_transform(train_data_reduced)\n",
    "test_data_reduced = scaler.transform(test_data_reduced)\n",
    "\n",
    "pca = PCA(n_components=0.95)  # keep 95% variance\n",
    "train_data_reduced = pca.fit_transform(train_data_reduced)\n",
    "test_data_reduced = pca.transform(test_data_reduced)"
   ]
  },
  {
   "cell_type": "code",
   "execution_count": 19,
   "metadata": {},
   "outputs": [
    {
     "name": "stdout",
     "output_type": "stream",
     "text": [
      "Accuracy: 46.44%\n",
      "Best parameters: {'C': 0.1, 'gamma': 'auto', 'kernel': 'poly'}\n"
     ]
    }
   ],
   "source": [
    "# SVM model for binary label classification\n",
    "param_grid = {\n",
    "    'C': [0.1, 1, 10],\n",
    "    'kernel': ['poly', 'rbf'],\n",
    "    'gamma': ['scale', 'auto']\n",
    "}\n",
    "model = SVC(random_state=42)\n",
    "grid_search = GridSearchCV(model, param_grid, cv=3, scoring='accuracy', n_jobs=-1)\n",
    "grid_search.fit(train_data_reduced, train_label_2)\n",
    "\n",
    "best_model = grid_search.best_estimator_\n",
    "\n",
    "pred_2 = best_model.predict(test_data_reduced)\n",
    "\n",
    "accuracy_2 = accuracy_score(test_label_2, pred_2)\n",
    "print(f\"Accuracy: {accuracy_2 * 100:.2f}%\")\n",
    "print(\"Best parameters:\", grid_search.best_params_)"
   ]
  },
  {
   "cell_type": "code",
   "execution_count": 21,
   "metadata": {},
   "outputs": [
    {
     "name": "stdout",
     "output_type": "stream",
     "text": [
      "Accuracy: 69.90%\n",
      "Best parameters: {'C': 0.1, 'gamma': 'scale', 'kernel': 'rbf'}\n"
     ]
    }
   ],
   "source": [
    "# SVM model for multi label classification\n",
    "param_grid = {\n",
    "    'C': [0.1, 1, 10],\n",
    "    'kernel': ['poly', 'rbf'],\n",
    "    'gamma': ['scale', 'auto']\n",
    "}\n",
    "model = SVC(random_state=42)\n",
    "grid_search = GridSearchCV(model, param_grid, cv=3, scoring='accuracy', n_jobs=-1)\n",
    "grid_search.fit(train_data_reduced, train_label_3)\n",
    "\n",
    "best_model = grid_search.best_estimator_\n",
    "\n",
    "pred_3 = best_model.predict(test_data_reduced)\n",
    "\n",
    "accuracy_2 = accuracy_score(test_label_3, pred_3)\n",
    "print(f\"Accuracy: {accuracy_2 * 100:.2f}%\")\n",
    "print(\"Best parameters:\", grid_search.best_params_)"
   ]
  }
 ],
 "metadata": {
  "kernelspec": {
   "display_name": "driving-eeg",
   "language": "python",
   "name": "python3"
  },
  "language_info": {
   "codemirror_mode": {
    "name": "ipython",
    "version": 3
   },
   "file_extension": ".py",
   "mimetype": "text/x-python",
   "name": "python",
   "nbconvert_exporter": "python",
   "pygments_lexer": "ipython3",
   "version": "3.10.16"
  }
 },
 "nbformat": 4,
 "nbformat_minor": 2
}
