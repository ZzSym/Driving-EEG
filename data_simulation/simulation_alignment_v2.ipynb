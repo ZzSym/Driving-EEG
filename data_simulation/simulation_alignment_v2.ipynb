{
 "cells": [
  {
   "cell_type": "markdown",
   "metadata": {},
   "source": [
    "# simulation_alignment_v2\n",
    "\n",
    "---\n",
    "\n",
    "Align the simulated EEG data and the log data of Carla Simulator in time.\n",
    "\n",
    "The simulated data dropped 300 points at the start, need buchong before aligning simulated EEG and vehicle control log."
   ]
  },
  {
   "cell_type": "code",
   "execution_count": 1,
   "metadata": {},
   "outputs": [],
   "source": [
    "import os\n",
    "import mne\n",
    "import numpy as np\n",
    "\n",
    "from omegaconf import OmegaConf\n",
    "from utils import (\n",
    "    get_ch_names,\n",
    "    load_npz_files,\n",
    "    load_log_file, \n",
    "    align_data,\n",
    "    align_preprocessed_data,\n",
    ")"
   ]
  },
  {
   "cell_type": "code",
   "execution_count": 2,
   "metadata": {},
   "outputs": [
    {
     "name": "stdout",
     "output_type": "stream",
     "text": [
      "Opening raw data file ../data/preprocessed/sub-jimingda/session_prep/preprocessed_session1.fif...\n",
      "    Range : 13455 ... 44910 =     67.275 ...   224.550 secs\n",
      "Ready.\n"
     ]
    },
    {
     "name": "stderr",
     "output_type": "stream",
     "text": [
      "/tmp/ipykernel_102084/1452673840.py:9: RuntimeWarning: This filename (../data/preprocessed/sub-jimingda/session_prep/preprocessed_session1.fif) does not conform to MNE naming conventions. All raw files should end with raw.fif, raw_sss.fif, raw_tsss.fif, _meg.fif, _eeg.fif, _ieeg.fif, raw.fif.gz, raw_sss.fif.gz, raw_tsss.fif.gz, _meg.fif.gz, _eeg.fif.gz or _ieeg.fif.gz\n",
      "  raw = mne.io.read_raw_fif(fif_file_path, preload=True)\n"
     ]
    },
    {
     "name": "stdout",
     "output_type": "stream",
     "text": [
      "Reading 0 ... 31455  =      0.000 ...   157.275 secs...\n",
      "Opening raw data file ../data/preprocessed/sub-jimingda/session_prep/preprocessed_session2.fif...\n",
      "    Range : 52070 ... 83741 =    260.350 ...   418.705 secs\n",
      "Ready.\n",
      "Reading 0 ... 31671  =      0.000 ...   158.355 secs...\n",
      "Opening raw data file ../data/preprocessed/sub-jimingda/session_prep/preprocessed_session3.fif...\n",
      "    Range : 122058 ... 153998 =    610.290 ...   769.990 secs\n",
      "Ready.\n",
      "Reading 0 ... 31940  =      0.000 ...   159.700 secs...\n",
      "Opening raw data file ../data/preprocessed/sub-jimingda/session_prep/preprocessed_session4.fif...\n",
      "    Range : 186641 ... 219002 =    933.205 ...  1095.010 secs\n",
      "Ready.\n",
      "Reading 0 ... 32361  =      0.000 ...   161.805 secs...\n",
      "Opening raw data file ../data/preprocessed/sub-jimingda/session_prep/preprocessed_session5.fif...\n",
      "    Range : 509564 ... 541530 =   2547.820 ...  2707.650 secs\n",
      "Ready.\n"
     ]
    },
    {
     "name": "stderr",
     "output_type": "stream",
     "text": [
      "/tmp/ipykernel_102084/1452673840.py:9: RuntimeWarning: This filename (../data/preprocessed/sub-jimingda/session_prep/preprocessed_session2.fif) does not conform to MNE naming conventions. All raw files should end with raw.fif, raw_sss.fif, raw_tsss.fif, _meg.fif, _eeg.fif, _ieeg.fif, raw.fif.gz, raw_sss.fif.gz, raw_tsss.fif.gz, _meg.fif.gz, _eeg.fif.gz or _ieeg.fif.gz\n",
      "  raw = mne.io.read_raw_fif(fif_file_path, preload=True)\n",
      "/tmp/ipykernel_102084/1452673840.py:9: RuntimeWarning: This filename (../data/preprocessed/sub-jimingda/session_prep/preprocessed_session3.fif) does not conform to MNE naming conventions. All raw files should end with raw.fif, raw_sss.fif, raw_tsss.fif, _meg.fif, _eeg.fif, _ieeg.fif, raw.fif.gz, raw_sss.fif.gz, raw_tsss.fif.gz, _meg.fif.gz, _eeg.fif.gz or _ieeg.fif.gz\n",
      "  raw = mne.io.read_raw_fif(fif_file_path, preload=True)\n",
      "/tmp/ipykernel_102084/1452673840.py:9: RuntimeWarning: This filename (../data/preprocessed/sub-jimingda/session_prep/preprocessed_session4.fif) does not conform to MNE naming conventions. All raw files should end with raw.fif, raw_sss.fif, raw_tsss.fif, _meg.fif, _eeg.fif, _ieeg.fif, raw.fif.gz, raw_sss.fif.gz, raw_tsss.fif.gz, _meg.fif.gz, _eeg.fif.gz or _ieeg.fif.gz\n",
      "  raw = mne.io.read_raw_fif(fif_file_path, preload=True)\n",
      "/tmp/ipykernel_102084/1452673840.py:9: RuntimeWarning: This filename (../data/preprocessed/sub-jimingda/session_prep/preprocessed_session5.fif) does not conform to MNE naming conventions. All raw files should end with raw.fif, raw_sss.fif, raw_tsss.fif, _meg.fif, _eeg.fif, _ieeg.fif, raw.fif.gz, raw_sss.fif.gz, raw_tsss.fif.gz, _meg.fif.gz, _eeg.fif.gz or _ieeg.fif.gz\n",
      "  raw = mne.io.read_raw_fif(fif_file_path, preload=True)\n"
     ]
    },
    {
     "name": "stdout",
     "output_type": "stream",
     "text": [
      "Reading 0 ... 31966  =      0.000 ...   159.830 secs...\n",
      "Opening raw data file ../data/preprocessed/sub-jimingda/session_prep/preprocessed_session6.fif...\n",
      "    Range : 546207 ... 578695 =   2731.035 ...  2893.475 secs\n",
      "Ready.\n",
      "Reading 0 ... 32488  =      0.000 ...   162.440 secs...\n",
      "Opening raw data file ../data/preprocessed/sub-jimingda/session_prep/preprocessed_session7.fif...\n",
      "    Range : 611677 ... 643721 =   3058.385 ...  3218.605 secs\n",
      "Ready.\n",
      "Reading 0 ... 32044  =      0.000 ...   160.220 secs...\n",
      "Opening raw data file ../data/preprocessed/sub-jimingda/session_prep/preprocessed_session8.fif...\n",
      "    Range : 653205 ... 685930 =   3266.025 ...  3429.650 secs\n",
      "Ready.\n",
      "Reading 0 ... 32725  =      0.000 ...   163.625 secs...\n",
      "Opening raw data file ../data/preprocessed/sub-jimingda/session_prep/preprocessed_session8.fif...\n",
      "    Range : 653205 ... 685930 =   3266.025 ...  3429.650 secs\n",
      "Ready.\n",
      "Reading 0 ... 32725  =      0.000 ...   163.625 secs...\n"
     ]
    },
    {
     "name": "stderr",
     "output_type": "stream",
     "text": [
      "/tmp/ipykernel_102084/1452673840.py:9: RuntimeWarning: This filename (../data/preprocessed/sub-jimingda/session_prep/preprocessed_session6.fif) does not conform to MNE naming conventions. All raw files should end with raw.fif, raw_sss.fif, raw_tsss.fif, _meg.fif, _eeg.fif, _ieeg.fif, raw.fif.gz, raw_sss.fif.gz, raw_tsss.fif.gz, _meg.fif.gz, _eeg.fif.gz or _ieeg.fif.gz\n",
      "  raw = mne.io.read_raw_fif(fif_file_path, preload=True)\n",
      "/tmp/ipykernel_102084/1452673840.py:9: RuntimeWarning: This filename (../data/preprocessed/sub-jimingda/session_prep/preprocessed_session7.fif) does not conform to MNE naming conventions. All raw files should end with raw.fif, raw_sss.fif, raw_tsss.fif, _meg.fif, _eeg.fif, _ieeg.fif, raw.fif.gz, raw_sss.fif.gz, raw_tsss.fif.gz, _meg.fif.gz, _eeg.fif.gz or _ieeg.fif.gz\n",
      "  raw = mne.io.read_raw_fif(fif_file_path, preload=True)\n",
      "/tmp/ipykernel_102084/1452673840.py:9: RuntimeWarning: This filename (../data/preprocessed/sub-jimingda/session_prep/preprocessed_session8.fif) does not conform to MNE naming conventions. All raw files should end with raw.fif, raw_sss.fif, raw_tsss.fif, _meg.fif, _eeg.fif, _ieeg.fif, raw.fif.gz, raw_sss.fif.gz, raw_tsss.fif.gz, _meg.fif.gz, _eeg.fif.gz or _ieeg.fif.gz\n",
      "  raw = mne.io.read_raw_fif(fif_file_path, preload=True)\n",
      "/home/taiping/AI4BMI/tutorials/Driving-EEG/data_simulation/utils.py:101: RuntimeWarning: This filename (../data/preprocessed/sub-jimingda/session_prep/preprocessed_session8.fif) does not conform to MNE naming conventions. All raw files should end with raw.fif, raw_sss.fif, raw_tsss.fif, _meg.fif, _eeg.fif, _ieeg.fif, raw.fif.gz, raw_sss.fif.gz, raw_tsss.fif.gz, _meg.fif.gz, _eeg.fif.gz or _ieeg.fif.gz\n",
      "  raw = mne.io.read_raw_fif(file_path, preload=True)\n"
     ]
    }
   ],
   "source": [
    "# Make npz files\n",
    "npz_dir = '../data/data_raw/sub-jimingda/20240819_preprocessed_npz'\n",
    "os.makedirs(npz_dir, exist_ok=True)\n",
    "\n",
    "for i in range(8):\n",
    "    fif_file_path = '../data/preprocessed/sub-jimingda/session_prep/preprocessed_session' + str(i+1) + '.fif'\n",
    "\n",
    "    # Read the .fif file using MNE\n",
    "    raw = mne.io.read_raw_fif(fif_file_path, preload=True)\n",
    "\n",
    "    # Get the data and the sampling frequency\n",
    "    data, times = raw[:]\n",
    "    sfreq = raw.info['sfreq']\n",
    "\n",
    "    # np.savez(os.path.join(npz_dir, 'Preprocessed_session' + str(i+1) + '.npz'), data=data, times=times, sfreq=sfreq)\n",
    "\n",
    "# Get the channel names\n",
    "ch_names = get_ch_names(fif_file_path)"
   ]
  },
  {
   "cell_type": "code",
   "execution_count": 4,
   "metadata": {},
   "outputs": [],
   "source": [
    "# Load preprocessed EEG data\n",
    "preprocessed_data_dir = '../data/preprocessed/sub-jimingda/session_prep/preprocessed_session1.npz'\n",
    "preprocessed_data = np.load(preprocessed_data_dir)"
   ]
  },
  {
   "cell_type": "code",
   "execution_count": 8,
   "metadata": {},
   "outputs": [],
   "source": [
    "log_dict = np.load(\"../data/data_raw/sub-jimingda/20240819_vehicle/20240819143707_jmd_jmd_1_FPV_log_dict_1.npz\", allow_pickle=True)"
   ]
  },
  {
   "cell_type": "code",
   "execution_count": 20,
   "metadata": {},
   "outputs": [],
   "source": [
    "cfg = OmegaConf.create()\n",
    "cfg.data_align = {}\n",
    "cfg.data_align.time_window = 1000\n",
    "cfg.data_align.padding_before = 1000\n",
    "cfg.data_align.padding_after = 1000\n",
    "cfg.data_align.decimate_rate = 5\n",
    "cfg.data_align.time_bias = 1000\n",
    "cfg.data_align.filter_type = \"fir\""
   ]
  },
  {
   "cell_type": "code",
   "execution_count": 48,
   "metadata": {},
   "outputs": [
    {
     "name": "stdout",
     "output_type": "stream",
     "text": [
      "./eeg_driving2_simulation_1e9/simulation9.npy\n"
     ]
    },
    {
     "name": "stderr",
     "output_type": "stream",
     "text": [
      "  0%|          | 0/4705 [00:00<?, ?it/s]"
     ]
    },
    {
     "name": "stderr",
     "output_type": "stream",
     "text": [
      "100%|██████████| 4705/4705 [00:13<00:00, 346.34it/s]\n"
     ]
    }
   ],
   "source": [
    "# Load simulated EEG data\n",
    "sub_dir = './eeg_driving2_simulation_1e9/'\n",
    "simulation_file = 'simulation9'\n",
    "simulated_data_dir = os.path.join(sub_dir, simulation_file + '.npy')\n",
    "print(simulated_data_dir)\n",
    "simulated_data = np.load(simulated_data_dir)\n",
    "\n",
    "patch1 = np.array(preprocessed_data['data'][:,:301])\n",
    "patch2 = simulated_data.T\n",
    "data = np.hstack((patch1,patch2))\n",
    "\n",
    "simulation_aligned_data = align_preprocessed_data(log_dict, data, cfg.data_align)\n",
    "\n",
    "np.savez(sub_dir + 'aligned_'+ simulation_file + '.npz', simulation_aligned_data)"
   ]
  }
 ],
 "metadata": {
  "kernelspec": {
   "display_name": "driving-eeg",
   "language": "python",
   "name": "python3"
  },
  "language_info": {
   "codemirror_mode": {
    "name": "ipython",
    "version": 3
   },
   "file_extension": ".py",
   "mimetype": "text/x-python",
   "name": "python",
   "nbconvert_exporter": "python",
   "pygments_lexer": "ipython3",
   "version": "3.10.16"
  }
 },
 "nbformat": 4,
 "nbformat_minor": 2
}
